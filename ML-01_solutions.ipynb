{
 "cells": [
  {
   "cell_type": "markdown",
   "metadata": {},
   "source": [
    "# Intro to Machine Learning"
   ]
  },
  {
   "cell_type": "code",
   "execution_count": null,
   "metadata": {},
   "outputs": [],
   "source": [
    "!pip install statsmodels"
   ]
  },
  {
   "cell_type": "code",
   "execution_count": 1,
   "metadata": {},
   "outputs": [],
   "source": [
    "import os\n",
    "import umap\n",
    "\n",
    "from zipfile import ZipFile\n",
    "\n",
    "from sklearn.datasets import load_breast_cancer\n",
    "from sklearn.datasets import fetch_openml\n",
    "\n",
    "from sklearn.preprocessing import LabelEncoder\n",
    "from sklearn.model_selection import train_test_split\n",
    "from sklearn.svm import SVC as BlackBoxClassifier\n",
    "from sklearn.cluster import DBSCAN as BlackBoxClustering\n",
    "from sklearn.cluster import AgglomerativeClustering as BlackBoxClustering2\n",
    "from sklearn.metrics import accuracy_score, confusion_matrix, classification_report\n",
    "\n",
    "import statsmodels.api as sm\n",
    "BlackBoxForecasting = sm.tsa.statespace.SARIMAX\n",
    "\n",
    "import matplotlib.pyplot as plt\n",
    "from pylab import rcParams\n",
    "\n",
    "import pandas as pd\n",
    "import numpy as np\n",
    "import seaborn as sns\n",
    "\n",
    "np.set_printoptions(precision=2)\n",
    "\n",
    "os.environ[\"KAGGLE_USERNAME\"] = \"injeans\"\n",
    "os.environ[\"KAGGLE_KEY\"] = \"cc08cc14836d12bd8bfccdfff9147ab7\"\n",
    "\n",
    "%matplotlib inline"
   ]
  },
  {
   "cell_type": "code",
   "execution_count": 2,
   "metadata": {},
   "outputs": [],
   "source": [
    "from sklearn.metrics import confusion_matrix\n",
    "from sklearn.utils.multiclass import unique_labels\n",
    "\n",
    "def plot_confusion_matrix(y_true, y_pred, classes,\n",
    "                          normalize=False,\n",
    "                          title=None,\n",
    "                          cmap=plt.cm.Blues):\n",
    "    \"\"\"\n",
    "    This function prints and plots the confusion matrix.\n",
    "    Normalization can be applied by setting `normalize=True`.\n",
    "    \"\"\"\n",
    "    if not title:\n",
    "        if normalize:\n",
    "            title = 'Normalized confusion matrix'\n",
    "        else:\n",
    "            title = 'Confusion matrix, without normalization'\n",
    "\n",
    "    # Compute confusion matrix\n",
    "    cm = confusion_matrix(y_true, y_pred)\n",
    "    # Only use the labels that appear in the data\n",
    "    classes = classes[unique_labels(y_true, y_pred)]\n",
    "    if normalize:\n",
    "        cm = cm.astype('float') / cm.sum(axis=1)[:, np.newaxis]\n",
    "        print(\"Normalized confusion matrix\")\n",
    "    else:\n",
    "        print('Confusion matrix, without normalization')\n",
    "\n",
    "    print(cm)\n",
    "\n",
    "    fig, ax = plt.subplots()\n",
    "    sns.heatmap(cm, annot=True, ax=ax, cmap=\"YlGnBu\")\n",
    "    # We want to show all ticks...\n",
    "    ax.set(xticks=[0.5, 1.5],\n",
    "           yticks=[0.5, 1.5],\n",
    "           # ... and label them with the respective list entries\n",
    "           xticklabels=classes, yticklabels=classes,\n",
    "           title=title,\n",
    "           ylabel='True label',\n",
    "           xlabel='Predicted label')\n",
    "\n",
    "    # Rotate the tick labels and set their alignment.\n",
    "    plt.setp(ax.get_xticklabels(), rotation=45, ha=\"right\",\n",
    "             rotation_mode=\"anchor\")\n",
    "\n",
    "#     # Loop over data dimensions and create text annotations.\n",
    "#     fmt = '.2f' if normalize else 'd'\n",
    "#     thresh = cm.max() / 2.\n",
    "#     for i in range(cm.shape[0]):\n",
    "#         for j in range(cm.shape[1]):\n",
    "#             ax.text(j, i, format(cm[i, j], fmt),\n",
    "#                     ha=\"center\", va=\"center\",\n",
    "#                     color=\"white\" if cm[i, j] > thresh else \"black\")\n",
    "    fig.tight_layout()\n",
    "    return ax"
   ]
  },
  {
   "cell_type": "markdown",
   "metadata": {},
   "source": [
    "## What is ML?"
   ]
  },
  {
   "cell_type": "markdown",
   "metadata": {},
   "source": [
    "<img src=\"assets/what_is_ml.png\" alt=\"Drawing\" style=\"width: 500px;\"/>"
   ]
  },
  {
   "cell_type": "markdown",
   "metadata": {},
   "source": [
    "A popular definition for machine learning, given by [Mitchell 1997](http://www.cs.cmu.edu/afs/cs.cmu.edu/user/mitchell/ftp/mlbook.html), is\n",
    "\n",
    "> A computer program is said to learn from experience, E, with respect to some class of tasks, T, and performance measure, P, if its performance at tasks in T, as measured by P, improves with experience E."
   ]
  },
  {
   "cell_type": "markdown",
   "metadata": {},
   "source": [
    "## Experience"
   ]
  },
  {
   "cell_type": "markdown",
   "metadata": {},
   "source": [
    "Typically, the experience a machine learning algorithm encounters during learning is in the form of a dataset, or exposure to a dataset (or subset thereof). A dataset is a collection of examples, each example comprising a set of features that have been quantitatively measured from some object or event. We typically represent an example as a vector $x \\in \\mathbb{R}^N$, where each entry  of the vector is another feature. Broadly speaking, experiences are often categorised as either **unsupervised** or **supervised**."
   ]
  },
  {
   "cell_type": "markdown",
   "metadata": {},
   "source": [
    "### Supervised"
   ]
  },
  {
   "cell_type": "markdown",
   "metadata": {},
   "source": [
    "Supervised learning algorithms experience a dataset containing features, but each example is also associated with a **label** or **target**. Supervised learning involves observing several examples of random vector, $x$, and an associated value or vector $y$, then learning to predict $y$ from $x$, usually by estimating $p(y|x)$ [(Goodfellow, Bengio, & Courville, 2016)](#References). \n",
    "\n",
    "Let's take a look at an example of a supervised experience."
   ]
  },
  {
   "cell_type": "code",
   "execution_count": null,
   "metadata": {},
   "outputs": [],
   "source": [
    "breast_cancer_data = load_breast_cancer()\n",
    "breast_cancer_df = pd.DataFrame(data=np.c_[breast_cancer_data['data'], breast_cancer_data['target']],\n",
    "                                columns=breast_cancer_data['feature_names'].tolist() + ['target'])\n",
    "breast_cancer_df.head()"
   ]
  },
  {
   "cell_type": "code",
   "execution_count": null,
   "metadata": {},
   "outputs": [],
   "source": [
    "breast_cancer_df.describe()"
   ]
  },
  {
   "cell_type": "code",
   "execution_count": null,
   "metadata": {},
   "outputs": [],
   "source": [
    "fig, axes = plt.subplots(nrows=1, ncols=2, figsize=(20, 10))\n",
    "\n",
    "sns.distplot(breast_cancer_df['target'], ax=axes[0])\n",
    "\n",
    "trans = umap.UMAP(n_neighbors=5, random_state=42).fit(breast_cancer_data['data'])\n",
    "\n",
    "axes[1].scatter(trans.embedding_[:, 0], trans.embedding_[:, 1], \n",
    "                s=50, c=breast_cancer_data['target'], cmap='Spectral')\n",
    "           \n",
    "fig.tight_layout()"
   ]
  },
  {
   "cell_type": "code",
   "execution_count": null,
   "metadata": {},
   "outputs": [],
   "source": [
    "sns.heatmap(breast_cancer_df.corr())"
   ]
  },
  {
   "cell_type": "code",
   "execution_count": null,
   "metadata": {},
   "outputs": [],
   "source": [
    "X_train, X_test, y_train, y_test = train_test_split(breast_cancer_data['data'], breast_cancer_data['target'], \n",
    "                                                    test_size=0.2, random_state=41)\n",
    "\n",
    "clf = BlackBoxClassifier(gamma=\"scale\")\n",
    "clf.fit(X_train, y_train)\n",
    "y_pred = clf.predict(X_test)\n",
    "\n",
    "print(\"Classification accuracy: {:.2f}%\".format(accuracy_score(y_pred, y_test)*100))"
   ]
  },
  {
   "cell_type": "code",
   "execution_count": null,
   "metadata": {},
   "outputs": [],
   "source": [
    "# Plot normalized confusion matrix\n",
    "plot_confusion_matrix(y_test, y_pred, classes=breast_cancer_data['target_names'], normalize=True,\n",
    "                      title='Normalized confusion matrix')\n",
    "\n",
    "plt.show()"
   ]
  },
  {
   "cell_type": "markdown",
   "metadata": {},
   "source": [
    "### (Self?/) Unsupervised"
   ]
  },
  {
   "cell_type": "markdown",
   "metadata": {},
   "source": [
    "Unsupervised learning algorithms experience a datset containing many features, then learn useful properties of the structure of this dataset. Unsupervised learning involves observing several examples of a random vector, $x$, and attempting to implicitly or explicitly learn the probability distribution $p(x)$, or some interesting properties of that distribution [(Goodfellow, Bengio, & Courville, 2016)](#References).\n",
    "\n",
    "Let's dive in!"
   ]
  },
  {
   "cell_type": "code",
   "execution_count": null,
   "metadata": {},
   "outputs": [],
   "source": [
    "higgs_data = fetch_openml(name='higgs')\n",
    "higgs_df = pd.DataFrame(data=np.c_[higgs_data['data'], higgs_data['target']],\n",
    "                               columns=higgs_data['feature_names'] + ['target'])\n",
    "higgs_df.dropna(inplace=True)\n",
    "higgs_df = higgs_df[higgs_df[\"target\"]==1]\n",
    "higgs_df = higgs_df.sample(frac=0.2, random_state=42)\n",
    "higgs_df.head()"
   ]
  },
  {
   "cell_type": "code",
   "execution_count": null,
   "metadata": {},
   "outputs": [],
   "source": [
    "higgs_df.describe()"
   ]
  },
  {
   "cell_type": "code",
   "execution_count": null,
   "metadata": {},
   "outputs": [],
   "source": [
    "trans = umap.UMAP(n_neighbors=5, random_state=42).fit(higgs_df.drop('target', axis=1).values)\n",
    "\n",
    "plt.figure(figsize=(20,10))\n",
    "plt.scatter(trans.embedding_[:, 0], trans.embedding_[:, 1], s=50)"
   ]
  },
  {
   "cell_type": "code",
   "execution_count": null,
   "metadata": {},
   "outputs": [],
   "source": [
    "clst = BlackBoxClustering(eps=4, min_samples=3)\n",
    "clst.fit(higgs_df.drop('target', axis=1).values)\n",
    "y_pred = clst.labels_\n",
    "\n",
    "print(np.unique(y_pred))\n",
    "\n",
    "plt.figure(figsize=(20,10))\n",
    "plt.scatter(trans.embedding_[:, 0], trans.embedding_[:, 1], \n",
    "            s=50, c=y_pred, cmap='Spectral')\n",
    "plt.colorbar()"
   ]
  },
  {
   "cell_type": "markdown",
   "metadata": {},
   "source": [
    "## Task"
   ]
  },
  {
   "cell_type": "markdown",
   "metadata": {},
   "source": [
    "Many kinds of tasks can be solved with machine learning. Some of the most common machine learning tasks include the following:\n",
    "\n",
    "- **Classiﬁcation**: the computer program is asked to specify which of $k$ categories some input belongs to. To solve this task, the learning algorithm is usually asked to produce a function $f:\\mathbb{R}^n \\to \\{1, \\dots, k\\}$. When $y=f(\\mathbf{x})$, the model assigns an input described by vector $\\mathbf{x}$ to a category identiﬁed by numeric code $y$. There are other variants of the classiﬁcation task, for example, where $f$ outputs a probability distribution over classes. An example of a classiﬁcation task is object recognition, where the input is an image (usually described as a set of pixel brightness values), and the output is a numeric code identifying the object in the image.\n",
    "- **Regression**: the computer program is asked to predict a numerical value given some input. To solve this task, the learning algorithm is asked to output a function $f:\\mathbb{R}^n\\to \\mathbb{R}$. This type of task is similar to classiﬁcation, except that the format of output is diﬀerent. An example of a regression task is the prediction of the expected claim amount that an insured person will make (used to set insurance premiums), or the prediction of future prices of securities. These kinds of predictions are also used for algorithmic trading.\n",
    "- **Clustering**: the assignment of a set of observations into subsets (called clusters) so that observations in the same cluster are similar in some sense.\n",
    "\n",
    "Okay so let's consider these tasks in the context of a new dataset."
   ]
  },
  {
   "cell_type": "code",
   "execution_count": 3,
   "metadata": {},
   "outputs": [
    {
     "name": "stdout",
     "output_type": "stream",
     "text": [
      "los-angeles-traffic-collision-data.zip: Skipping, found more recently modified local copy (use --force to force download)\n",
      "los-angeles-traffic-collision-data.zip\n",
      "socrata_metadata.json\n",
      "traffic-collision-data-from-2010-to-present.csv\n"
     ]
    }
   ],
   "source": [
    "!kaggle datasets download -d cityofLA/los-angeles-traffic-collision-data -p kaggle_data\n",
    "with ZipFile('kaggle_data/los-angeles-traffic-collision-data.zip', 'r') as zipObj:\n",
    "   # Extract all the contents of zip file in different directory\n",
    "   zipObj.extractall('kaggle_data')\n",
    "!ls kaggle_data"
   ]
  },
  {
   "cell_type": "code",
   "execution_count": 4,
   "metadata": {},
   "outputs": [
    {
     "data": {
      "text/html": [
       "<div>\n",
       "<style scoped>\n",
       "    .dataframe tbody tr th:only-of-type {\n",
       "        vertical-align: middle;\n",
       "    }\n",
       "\n",
       "    .dataframe tbody tr th {\n",
       "        vertical-align: top;\n",
       "    }\n",
       "\n",
       "    .dataframe thead th {\n",
       "        text-align: right;\n",
       "    }\n",
       "</style>\n",
       "<table border=\"1\" class=\"dataframe\">\n",
       "  <thead>\n",
       "    <tr style=\"text-align: right;\">\n",
       "      <th></th>\n",
       "      <th>Date Reported</th>\n",
       "      <th>Date Occurred</th>\n",
       "      <th>Time Occurred</th>\n",
       "      <th>Area ID</th>\n",
       "      <th>Area Name</th>\n",
       "      <th>Reporting District</th>\n",
       "      <th>Crime Code</th>\n",
       "      <th>MO Codes</th>\n",
       "      <th>Victim Age</th>\n",
       "      <th>Victim Sex</th>\n",
       "      <th>...</th>\n",
       "      <th>Premise Description</th>\n",
       "      <th>Address</th>\n",
       "      <th>Cross Street</th>\n",
       "      <th>Location</th>\n",
       "      <th>Zip Codes</th>\n",
       "      <th>Census Tracts</th>\n",
       "      <th>Precinct Boundaries</th>\n",
       "      <th>LA Specific Plans</th>\n",
       "      <th>Council Districts</th>\n",
       "      <th>Neighborhood Councils (Certified)</th>\n",
       "    </tr>\n",
       "  </thead>\n",
       "  <tbody>\n",
       "    <tr>\n",
       "      <td>31</td>\n",
       "      <td>2019-09-13</td>\n",
       "      <td>2019-09-13</td>\n",
       "      <td>1859</td>\n",
       "      <td>18</td>\n",
       "      <td>Southeast</td>\n",
       "      <td>1842</td>\n",
       "      <td>997</td>\n",
       "      <td>0605</td>\n",
       "      <td>54.0</td>\n",
       "      <td>M</td>\n",
       "      <td>...</td>\n",
       "      <td>STREET</td>\n",
       "      <td>IMPERIAL                     HY</td>\n",
       "      <td>BROADWAY</td>\n",
       "      <td>{'longitude': '-118.2783', 'latitude': '33.931...</td>\n",
       "      <td>24355.0</td>\n",
       "      <td>809.0</td>\n",
       "      <td>1194.0</td>\n",
       "      <td>7.0</td>\n",
       "      <td>14.0</td>\n",
       "      <td>53.0</td>\n",
       "    </tr>\n",
       "    <tr>\n",
       "      <td>35</td>\n",
       "      <td>2019-09-14</td>\n",
       "      <td>2019-09-13</td>\n",
       "      <td>2315</td>\n",
       "      <td>18</td>\n",
       "      <td>Southeast</td>\n",
       "      <td>1846</td>\n",
       "      <td>997</td>\n",
       "      <td>0605</td>\n",
       "      <td>25.0</td>\n",
       "      <td>M</td>\n",
       "      <td>...</td>\n",
       "      <td>STREET</td>\n",
       "      <td>CENTRAL</td>\n",
       "      <td>112TH                        ST</td>\n",
       "      <td>{'longitude': '-118.2542', 'latitude': '33.933...</td>\n",
       "      <td>24354.0</td>\n",
       "      <td>821.0</td>\n",
       "      <td>1193.0</td>\n",
       "      <td>7.0</td>\n",
       "      <td>15.0</td>\n",
       "      <td>40.0</td>\n",
       "    </tr>\n",
       "    <tr>\n",
       "      <td>42</td>\n",
       "      <td>2019-09-13</td>\n",
       "      <td>2019-09-13</td>\n",
       "      <td>1800</td>\n",
       "      <td>12</td>\n",
       "      <td>77th Street</td>\n",
       "      <td>1249</td>\n",
       "      <td>997</td>\n",
       "      <td>0605</td>\n",
       "      <td>68.0</td>\n",
       "      <td>M</td>\n",
       "      <td>...</td>\n",
       "      <td>STREET</td>\n",
       "      <td>GAGE                         AV</td>\n",
       "      <td>FIGUEROA                     ST</td>\n",
       "      <td>{'longitude': '-118.2827', 'latitude': '33.982...</td>\n",
       "      <td>23675.0</td>\n",
       "      <td>767.0</td>\n",
       "      <td>991.0</td>\n",
       "      <td>7.0</td>\n",
       "      <td>13.0</td>\n",
       "      <td>2.0</td>\n",
       "    </tr>\n",
       "    <tr>\n",
       "      <td>45</td>\n",
       "      <td>2019-09-14</td>\n",
       "      <td>2019-09-13</td>\n",
       "      <td>1440</td>\n",
       "      <td>13</td>\n",
       "      <td>Newton</td>\n",
       "      <td>1383</td>\n",
       "      <td>997</td>\n",
       "      <td>1300</td>\n",
       "      <td>43.0</td>\n",
       "      <td>F</td>\n",
       "      <td>...</td>\n",
       "      <td>STREET</td>\n",
       "      <td>BROADWAY</td>\n",
       "      <td>59TH                         ST</td>\n",
       "      <td>{'longitude': '-118.2783', 'latitude': '33.986...</td>\n",
       "      <td>22352.0</td>\n",
       "      <td>785.0</td>\n",
       "      <td>993.0</td>\n",
       "      <td>7.0</td>\n",
       "      <td>13.0</td>\n",
       "      <td>46.0</td>\n",
       "    </tr>\n",
       "    <tr>\n",
       "      <td>51</td>\n",
       "      <td>2019-09-13</td>\n",
       "      <td>2019-09-13</td>\n",
       "      <td>1445</td>\n",
       "      <td>3</td>\n",
       "      <td>Southwest</td>\n",
       "      <td>353</td>\n",
       "      <td>997</td>\n",
       "      <td>4025 3036 3008 3026 3029 3104</td>\n",
       "      <td>16.0</td>\n",
       "      <td>M</td>\n",
       "      <td>...</td>\n",
       "      <td>STREET</td>\n",
       "      <td>RODEO</td>\n",
       "      <td>CRENSHAW</td>\n",
       "      <td>{'longitude': '-118.3354', 'latitude': '34.019...</td>\n",
       "      <td>23077.0</td>\n",
       "      <td>663.0</td>\n",
       "      <td>1007.0</td>\n",
       "      <td>7.0</td>\n",
       "      <td>12.0</td>\n",
       "      <td>17.0</td>\n",
       "    </tr>\n",
       "  </tbody>\n",
       "</table>\n",
       "<p>5 rows × 22 columns</p>\n",
       "</div>"
      ],
      "text/plain": [
       "   Date Reported Date Occurred  Time Occurred  Area ID    Area Name  \\\n",
       "31    2019-09-13    2019-09-13           1859       18    Southeast   \n",
       "35    2019-09-14    2019-09-13           2315       18    Southeast   \n",
       "42    2019-09-13    2019-09-13           1800       12  77th Street   \n",
       "45    2019-09-14    2019-09-13           1440       13       Newton   \n",
       "51    2019-09-13    2019-09-13           1445        3    Southwest   \n",
       "\n",
       "    Reporting District  Crime Code                       MO Codes  Victim Age  \\\n",
       "31                1842         997                           0605        54.0   \n",
       "35                1846         997                           0605        25.0   \n",
       "42                1249         997                           0605        68.0   \n",
       "45                1383         997                           1300        43.0   \n",
       "51                 353         997  4025 3036 3008 3026 3029 3104        16.0   \n",
       "\n",
       "   Victim Sex  ... Premise Description                          Address  \\\n",
       "31          M  ...              STREET  IMPERIAL                     HY   \n",
       "35          M  ...              STREET                          CENTRAL   \n",
       "42          M  ...              STREET  GAGE                         AV   \n",
       "45          F  ...              STREET                         BROADWAY   \n",
       "51          M  ...              STREET                            RODEO   \n",
       "\n",
       "                       Cross Street  \\\n",
       "31                         BROADWAY   \n",
       "35  112TH                        ST   \n",
       "42  FIGUEROA                     ST   \n",
       "45  59TH                         ST   \n",
       "51                         CRENSHAW   \n",
       "\n",
       "                                             Location Zip Codes Census Tracts  \\\n",
       "31  {'longitude': '-118.2783', 'latitude': '33.931...   24355.0         809.0   \n",
       "35  {'longitude': '-118.2542', 'latitude': '33.933...   24354.0         821.0   \n",
       "42  {'longitude': '-118.2827', 'latitude': '33.982...   23675.0         767.0   \n",
       "45  {'longitude': '-118.2783', 'latitude': '33.986...   22352.0         785.0   \n",
       "51  {'longitude': '-118.3354', 'latitude': '34.019...   23077.0         663.0   \n",
       "\n",
       "    Precinct Boundaries  LA Specific Plans  Council Districts  \\\n",
       "31               1194.0                7.0               14.0   \n",
       "35               1193.0                7.0               15.0   \n",
       "42                991.0                7.0               13.0   \n",
       "45                993.0                7.0               13.0   \n",
       "51               1007.0                7.0               12.0   \n",
       "\n",
       "    Neighborhood Councils (Certified)  \n",
       "31                               53.0  \n",
       "35                               40.0  \n",
       "42                                2.0  \n",
       "45                               46.0  \n",
       "51                               17.0  \n",
       "\n",
       "[5 rows x 22 columns]"
      ]
     },
     "execution_count": 4,
     "metadata": {},
     "output_type": "execute_result"
    }
   ],
   "source": [
    "la_df = pd.read_csv(\"kaggle_data/traffic-collision-data-from-2010-to-present.csv\")\n",
    "la_df['Date Reported'] = pd.to_datetime(la_df['Date Reported'])\n",
    "la_df['Date Occurred'] = pd.to_datetime(la_df['Date Occurred'])\n",
    "la_df.drop(labels=\"DR Number\", axis=1, inplace=True)\n",
    "la_df.drop(labels=\"Crime Code Description\", axis=1, inplace=True)\n",
    "la_df.dropna(inplace=True)\n",
    "la_df.head()"
   ]
  },
  {
   "cell_type": "code",
   "execution_count": 5,
   "metadata": {},
   "outputs": [
    {
     "data": {
      "text/html": [
       "<div>\n",
       "<style scoped>\n",
       "    .dataframe tbody tr th:only-of-type {\n",
       "        vertical-align: middle;\n",
       "    }\n",
       "\n",
       "    .dataframe tbody tr th {\n",
       "        vertical-align: top;\n",
       "    }\n",
       "\n",
       "    .dataframe thead th {\n",
       "        text-align: right;\n",
       "    }\n",
       "</style>\n",
       "<table border=\"1\" class=\"dataframe\">\n",
       "  <thead>\n",
       "    <tr style=\"text-align: right;\">\n",
       "      <th></th>\n",
       "      <th>Time Occurred</th>\n",
       "      <th>Area ID</th>\n",
       "      <th>Reporting District</th>\n",
       "      <th>Crime Code</th>\n",
       "      <th>Victim Age</th>\n",
       "      <th>Premise Code</th>\n",
       "      <th>Zip Codes</th>\n",
       "      <th>Census Tracts</th>\n",
       "      <th>Precinct Boundaries</th>\n",
       "      <th>LA Specific Plans</th>\n",
       "      <th>Council Districts</th>\n",
       "      <th>Neighborhood Councils (Certified)</th>\n",
       "    </tr>\n",
       "  </thead>\n",
       "  <tbody>\n",
       "    <tr>\n",
       "      <td>count</td>\n",
       "      <td>107352.000000</td>\n",
       "      <td>107352.000000</td>\n",
       "      <td>107352.000000</td>\n",
       "      <td>107352.0</td>\n",
       "      <td>107352.000000</td>\n",
       "      <td>107352.000000</td>\n",
       "      <td>107352.000000</td>\n",
       "      <td>107352.000000</td>\n",
       "      <td>107352.000000</td>\n",
       "      <td>107352.000000</td>\n",
       "      <td>107352.000000</td>\n",
       "      <td>107352.000000</td>\n",
       "    </tr>\n",
       "    <tr>\n",
       "      <td>mean</td>\n",
       "      <td>1384.606966</td>\n",
       "      <td>11.154659</td>\n",
       "      <td>1164.880142</td>\n",
       "      <td>997.0</td>\n",
       "      <td>41.416136</td>\n",
       "      <td>101.883998</td>\n",
       "      <td>21852.813324</td>\n",
       "      <td>711.409140</td>\n",
       "      <td>954.362313</td>\n",
       "      <td>10.177668</td>\n",
       "      <td>10.512566</td>\n",
       "      <td>42.099607</td>\n",
       "    </tr>\n",
       "    <tr>\n",
       "      <td>std</td>\n",
       "      <td>574.236722</td>\n",
       "      <td>5.404875</td>\n",
       "      <td>537.890328</td>\n",
       "      <td>0.0</td>\n",
       "      <td>16.105503</td>\n",
       "      <td>16.077612</td>\n",
       "      <td>4793.293885</td>\n",
       "      <td>332.123682</td>\n",
       "      <td>307.724068</td>\n",
       "      <td>8.425495</td>\n",
       "      <td>3.674953</td>\n",
       "      <td>24.560838</td>\n",
       "    </tr>\n",
       "    <tr>\n",
       "      <td>min</td>\n",
       "      <td>1.000000</td>\n",
       "      <td>1.000000</td>\n",
       "      <td>109.000000</td>\n",
       "      <td>997.0</td>\n",
       "      <td>10.000000</td>\n",
       "      <td>101.000000</td>\n",
       "      <td>3221.000000</td>\n",
       "      <td>1.000000</td>\n",
       "      <td>27.000000</td>\n",
       "      <td>1.000000</td>\n",
       "      <td>1.000000</td>\n",
       "      <td>1.000000</td>\n",
       "    </tr>\n",
       "    <tr>\n",
       "      <td>25%</td>\n",
       "      <td>1000.000000</td>\n",
       "      <td>8.000000</td>\n",
       "      <td>833.000000</td>\n",
       "      <td>997.0</td>\n",
       "      <td>28.000000</td>\n",
       "      <td>101.000000</td>\n",
       "      <td>22721.000000</td>\n",
       "      <td>579.000000</td>\n",
       "      <td>745.000000</td>\n",
       "      <td>7.000000</td>\n",
       "      <td>8.000000</td>\n",
       "      <td>24.000000</td>\n",
       "    </tr>\n",
       "    <tr>\n",
       "      <td>50%</td>\n",
       "      <td>1445.000000</td>\n",
       "      <td>12.000000</td>\n",
       "      <td>1253.000000</td>\n",
       "      <td>997.0</td>\n",
       "      <td>39.000000</td>\n",
       "      <td>101.000000</td>\n",
       "      <td>23443.000000</td>\n",
       "      <td>748.000000</td>\n",
       "      <td>993.000000</td>\n",
       "      <td>7.000000</td>\n",
       "      <td>12.000000</td>\n",
       "      <td>43.000000</td>\n",
       "    </tr>\n",
       "    <tr>\n",
       "      <td>75%</td>\n",
       "      <td>1825.000000</td>\n",
       "      <td>14.000000</td>\n",
       "      <td>1487.000000</td>\n",
       "      <td>997.0</td>\n",
       "      <td>52.000000</td>\n",
       "      <td>101.000000</td>\n",
       "      <td>23678.000000</td>\n",
       "      <td>821.000000</td>\n",
       "      <td>1174.000000</td>\n",
       "      <td>10.000000</td>\n",
       "      <td>14.000000</td>\n",
       "      <td>57.000000</td>\n",
       "    </tr>\n",
       "    <tr>\n",
       "      <td>max</td>\n",
       "      <td>2359.000000</td>\n",
       "      <td>21.000000</td>\n",
       "      <td>2199.000000</td>\n",
       "      <td>997.0</td>\n",
       "      <td>99.000000</td>\n",
       "      <td>726.000000</td>\n",
       "      <td>25714.000000</td>\n",
       "      <td>2342.000000</td>\n",
       "      <td>1558.000000</td>\n",
       "      <td>54.000000</td>\n",
       "      <td>15.000000</td>\n",
       "      <td>95.000000</td>\n",
       "    </tr>\n",
       "  </tbody>\n",
       "</table>\n",
       "</div>"
      ],
      "text/plain": [
       "       Time Occurred        Area ID  Reporting District  Crime Code  \\\n",
       "count  107352.000000  107352.000000       107352.000000    107352.0   \n",
       "mean     1384.606966      11.154659         1164.880142       997.0   \n",
       "std       574.236722       5.404875          537.890328         0.0   \n",
       "min         1.000000       1.000000          109.000000       997.0   \n",
       "25%      1000.000000       8.000000          833.000000       997.0   \n",
       "50%      1445.000000      12.000000         1253.000000       997.0   \n",
       "75%      1825.000000      14.000000         1487.000000       997.0   \n",
       "max      2359.000000      21.000000         2199.000000       997.0   \n",
       "\n",
       "          Victim Age   Premise Code      Zip Codes  Census Tracts  \\\n",
       "count  107352.000000  107352.000000  107352.000000  107352.000000   \n",
       "mean       41.416136     101.883998   21852.813324     711.409140   \n",
       "std        16.105503      16.077612    4793.293885     332.123682   \n",
       "min        10.000000     101.000000    3221.000000       1.000000   \n",
       "25%        28.000000     101.000000   22721.000000     579.000000   \n",
       "50%        39.000000     101.000000   23443.000000     748.000000   \n",
       "75%        52.000000     101.000000   23678.000000     821.000000   \n",
       "max        99.000000     726.000000   25714.000000    2342.000000   \n",
       "\n",
       "       Precinct Boundaries  LA Specific Plans  Council Districts  \\\n",
       "count        107352.000000      107352.000000      107352.000000   \n",
       "mean            954.362313          10.177668          10.512566   \n",
       "std             307.724068           8.425495           3.674953   \n",
       "min              27.000000           1.000000           1.000000   \n",
       "25%             745.000000           7.000000           8.000000   \n",
       "50%             993.000000           7.000000          12.000000   \n",
       "75%            1174.000000          10.000000          14.000000   \n",
       "max            1558.000000          54.000000          15.000000   \n",
       "\n",
       "       Neighborhood Councils (Certified)  \n",
       "count                      107352.000000  \n",
       "mean                           42.099607  \n",
       "std                            24.560838  \n",
       "min                             1.000000  \n",
       "25%                            24.000000  \n",
       "50%                            43.000000  \n",
       "75%                            57.000000  \n",
       "max                            95.000000  "
      ]
     },
     "execution_count": 5,
     "metadata": {},
     "output_type": "execute_result"
    }
   ],
   "source": [
    "la_df.describe()"
   ]
  },
  {
   "cell_type": "markdown",
   "metadata": {},
   "source": [
    "### Classification"
   ]
  },
  {
   "cell_type": "code",
   "execution_count": 8,
   "metadata": {},
   "outputs": [],
   "source": [
    "from sklearn.preprocessing import KBinsDiscretizer\n",
    "\n",
    "target = la_df['Victim Age']\n",
    "\n",
    "est = KBinsDiscretizer(n_bins=5, encode='ordinal', strategy='uniform')\n",
    "binned_target = est.fit_transform(target.values.reshape(-1,1))"
   ]
  },
  {
   "cell_type": "code",
   "execution_count": 9,
   "metadata": {},
   "outputs": [
    {
     "data": {
      "text/plain": [
       "<matplotlib.axes._subplots.AxesSubplot at 0x7fabf2498550>"
      ]
     },
     "execution_count": 9,
     "metadata": {},
     "output_type": "execute_result"
    },
    {
     "data": {
      "image/png": "[encoded data removed]",
      "text/plain": [
       "<Figure size 432x288 with 1 Axes>"
      ]
     },
     "metadata": {
      "needs_background": "light"
     },
     "output_type": "display_data"
    }
   ],
   "source": [
    "target.hist()"
   ]
  },
  {
   "cell_type": "code",
   "execution_count": 10,
   "metadata": {},
   "outputs": [
    {
     "data": {
      "text/plain": [
       "array([[2.],\n",
       "       [0.],\n",
       "       [3.],\n",
       "       ...,\n",
       "       [0.],\n",
       "       [2.],\n",
       "       [2.]])"
      ]
     },
     "execution_count": 10,
     "metadata": {},
     "output_type": "execute_result"
    }
   ],
   "source": [
    "binned_target"
   ]
  },
  {
   "cell_type": "code",
   "execution_count": 16,
   "metadata": {},
   "outputs": [],
   "source": [
    "ageless_df = la_df.drop(\"Victim Age\", axis=1)\n",
    "ageless_df[\"Date Reported\"] = lb_make.fit_transform(ageless_df[\"Date Reported\"])\n",
    "ageless_df[\"Date Occurred\"] = lb_make.fit_transform(ageless_df[\"Date Occurred\"])\n",
    "\n",
    "obj_df = ageless_df.select_dtypes(include=['object']).copy()\n",
    "\n",
    "for col in obj_df.columns:\n",
    "    ageless_df[col] = lb_make.fit_transform(ageless_df[col])"
   ]
  },
  {
   "cell_type": "code",
   "execution_count": null,
   "metadata": {},
   "outputs": [],
   "source": [
    "X_train, X_test, y_train, y_test = train_test_split(ageless_df, binned_target, \n",
    "                                                    test_size=0.2, random_state=41)\n",
    "\n",
    "clf = BlackBoxClassifier(gamma=\"scale\")\n",
    "clf.fit(X_train[:1000], y_train[:1000])\n",
    "y_pred = clf.predict(X_test[:1000])\n",
    "\n",
    "print(\"Classification accuracy: {:.2f}%\".format(accuracy_score(y_pred, y_test[:1000])*100))"
   ]
  },
  {
   "cell_type": "code",
   "execution_count": 11,
   "metadata": {},
   "outputs": [],
   "source": [
    "single_mo_df = la_df[la_df['MO Codes'].str.split().str.len().lt(2)]\n",
    "gb_df = single_mo_df.groupby(\"MO Codes\").count()['Date Reported']\n",
    "mo_codes = gb_df[gb_df.gt(100)].index\n",
    "clf_df = la_df[la_df['MO Codes'].isin(mo_codes)].copy()\n",
    "\n",
    "target = clf_df.pop('MO Codes')\n",
    "features_df = clf_df.drop(\"Location\", axis=1)"
   ]
  },
  {
   "cell_type": "code",
   "execution_count": 12,
   "metadata": {},
   "outputs": [
    {
     "data": {
      "text/plain": [
       "Date Reported                        datetime64[ns]\n",
       "Date Occurred                        datetime64[ns]\n",
       "Time Occurred                                 int64\n",
       "Area ID                                       int64\n",
       "Area Name                                    object\n",
       "Reporting District                            int64\n",
       "Crime Code                                    int64\n",
       "MO Codes                                     object\n",
       "Victim Age                                  float64\n",
       "Victim Sex                                   object\n",
       "Victim Descent                               object\n",
       "Premise Code                                float64\n",
       "Premise Description                          object\n",
       "Address                                      object\n",
       "Cross Street                                 object\n",
       "Location                                     object\n",
       "Zip Codes                                   float64\n",
       "Census Tracts                               float64\n",
       "Precinct Boundaries                         float64\n",
       "LA Specific Plans                           float64\n",
       "Council Districts                           float64\n",
       "Neighborhood Councils (Certified)           float64\n",
       "dtype: object"
      ]
     },
     "execution_count": 12,
     "metadata": {},
     "output_type": "execute_result"
    }
   ],
   "source": [
    "la_df.dtypes"
   ]
  },
  {
   "cell_type": "code",
   "execution_count": 13,
   "metadata": {},
   "outputs": [
    {
     "data": {
      "text/html": [
       "<div>\n",
       "<style scoped>\n",
       "    .dataframe tbody tr th:only-of-type {\n",
       "        vertical-align: middle;\n",
       "    }\n",
       "\n",
       "    .dataframe tbody tr th {\n",
       "        vertical-align: top;\n",
       "    }\n",
       "\n",
       "    .dataframe thead th {\n",
       "        text-align: right;\n",
       "    }\n",
       "</style>\n",
       "<table border=\"1\" class=\"dataframe\">\n",
       "  <thead>\n",
       "    <tr style=\"text-align: right;\">\n",
       "      <th></th>\n",
       "      <th>Date Reported</th>\n",
       "      <th>Date Occurred</th>\n",
       "      <th>Time Occurred</th>\n",
       "      <th>Area ID</th>\n",
       "      <th>Area Name</th>\n",
       "      <th>Reporting District</th>\n",
       "      <th>Crime Code</th>\n",
       "      <th>Victim Age</th>\n",
       "      <th>Victim Sex</th>\n",
       "      <th>Victim Descent</th>\n",
       "      <th>Premise Code</th>\n",
       "      <th>Premise Description</th>\n",
       "      <th>Address</th>\n",
       "      <th>Cross Street</th>\n",
       "      <th>Zip Codes</th>\n",
       "      <th>Census Tracts</th>\n",
       "      <th>Precinct Boundaries</th>\n",
       "      <th>LA Specific Plans</th>\n",
       "      <th>Council Districts</th>\n",
       "      <th>Neighborhood Councils (Certified)</th>\n",
       "    </tr>\n",
       "  </thead>\n",
       "  <tbody>\n",
       "    <tr>\n",
       "      <td>31</td>\n",
       "      <td>1851</td>\n",
       "      <td>1865</td>\n",
       "      <td>1859</td>\n",
       "      <td>18</td>\n",
       "      <td>14</td>\n",
       "      <td>1842</td>\n",
       "      <td>997</td>\n",
       "      <td>54.0</td>\n",
       "      <td>1</td>\n",
       "      <td>1</td>\n",
       "      <td>101.0</td>\n",
       "      <td>10</td>\n",
       "      <td>601</td>\n",
       "      <td>386</td>\n",
       "      <td>24355.0</td>\n",
       "      <td>809.0</td>\n",
       "      <td>1194.0</td>\n",
       "      <td>7.0</td>\n",
       "      <td>14.0</td>\n",
       "      <td>53.0</td>\n",
       "    </tr>\n",
       "    <tr>\n",
       "      <td>35</td>\n",
       "      <td>1852</td>\n",
       "      <td>1865</td>\n",
       "      <td>2315</td>\n",
       "      <td>18</td>\n",
       "      <td>14</td>\n",
       "      <td>1846</td>\n",
       "      <td>997</td>\n",
       "      <td>25.0</td>\n",
       "      <td>1</td>\n",
       "      <td>1</td>\n",
       "      <td>101.0</td>\n",
       "      <td>10</td>\n",
       "      <td>378</td>\n",
       "      <td>20</td>\n",
       "      <td>24354.0</td>\n",
       "      <td>821.0</td>\n",
       "      <td>1193.0</td>\n",
       "      <td>7.0</td>\n",
       "      <td>15.0</td>\n",
       "      <td>40.0</td>\n",
       "    </tr>\n",
       "    <tr>\n",
       "      <td>42</td>\n",
       "      <td>1851</td>\n",
       "      <td>1865</td>\n",
       "      <td>1800</td>\n",
       "      <td>12</td>\n",
       "      <td>0</td>\n",
       "      <td>1249</td>\n",
       "      <td>997</td>\n",
       "      <td>68.0</td>\n",
       "      <td>1</td>\n",
       "      <td>13</td>\n",
       "      <td>101.0</td>\n",
       "      <td>10</td>\n",
       "      <td>523</td>\n",
       "      <td>651</td>\n",
       "      <td>23675.0</td>\n",
       "      <td>767.0</td>\n",
       "      <td>991.0</td>\n",
       "      <td>7.0</td>\n",
       "      <td>13.0</td>\n",
       "      <td>2.0</td>\n",
       "    </tr>\n",
       "    <tr>\n",
       "      <td>45</td>\n",
       "      <td>1852</td>\n",
       "      <td>1865</td>\n",
       "      <td>1440</td>\n",
       "      <td>13</td>\n",
       "      <td>9</td>\n",
       "      <td>1383</td>\n",
       "      <td>997</td>\n",
       "      <td>43.0</td>\n",
       "      <td>0</td>\n",
       "      <td>1</td>\n",
       "      <td>101.0</td>\n",
       "      <td>10</td>\n",
       "      <td>331</td>\n",
       "      <td>159</td>\n",
       "      <td>22352.0</td>\n",
       "      <td>785.0</td>\n",
       "      <td>993.0</td>\n",
       "      <td>7.0</td>\n",
       "      <td>13.0</td>\n",
       "      <td>46.0</td>\n",
       "    </tr>\n",
       "    <tr>\n",
       "      <td>60</td>\n",
       "      <td>1851</td>\n",
       "      <td>1865</td>\n",
       "      <td>910</td>\n",
       "      <td>18</td>\n",
       "      <td>14</td>\n",
       "      <td>1803</td>\n",
       "      <td>997</td>\n",
       "      <td>18.0</td>\n",
       "      <td>0</td>\n",
       "      <td>5</td>\n",
       "      <td>101.0</td>\n",
       "      <td>10</td>\n",
       "      <td>211</td>\n",
       "      <td>896</td>\n",
       "      <td>22352.0</td>\n",
       "      <td>798.0</td>\n",
       "      <td>1175.0</td>\n",
       "      <td>7.0</td>\n",
       "      <td>13.0</td>\n",
       "      <td>45.0</td>\n",
       "    </tr>\n",
       "  </tbody>\n",
       "</table>\n",
       "</div>"
      ],
      "text/plain": [
       "    Date Reported  Date Occurred  Time Occurred  Area ID  Area Name  \\\n",
       "31           1851           1865           1859       18         14   \n",
       "35           1852           1865           2315       18         14   \n",
       "42           1851           1865           1800       12          0   \n",
       "45           1852           1865           1440       13          9   \n",
       "60           1851           1865            910       18         14   \n",
       "\n",
       "    Reporting District  Crime Code  Victim Age  Victim Sex  Victim Descent  \\\n",
       "31                1842         997        54.0           1               1   \n",
       "35                1846         997        25.0           1               1   \n",
       "42                1249         997        68.0           1              13   \n",
       "45                1383         997        43.0           0               1   \n",
       "60                1803         997        18.0           0               5   \n",
       "\n",
       "    Premise Code  Premise Description  Address  Cross Street  Zip Codes  \\\n",
       "31         101.0                   10      601           386    24355.0   \n",
       "35         101.0                   10      378            20    24354.0   \n",
       "42         101.0                   10      523           651    23675.0   \n",
       "45         101.0                   10      331           159    22352.0   \n",
       "60         101.0                   10      211           896    22352.0   \n",
       "\n",
       "    Census Tracts  Precinct Boundaries  LA Specific Plans  Council Districts  \\\n",
       "31          809.0               1194.0                7.0               14.0   \n",
       "35          821.0               1193.0                7.0               15.0   \n",
       "42          767.0                991.0                7.0               13.0   \n",
       "45          785.0                993.0                7.0               13.0   \n",
       "60          798.0               1175.0                7.0               13.0   \n",
       "\n",
       "    Neighborhood Councils (Certified)  \n",
       "31                               53.0  \n",
       "35                               40.0  \n",
       "42                                2.0  \n",
       "45                               46.0  \n",
       "60                               45.0  "
      ]
     },
     "execution_count": 13,
     "metadata": {},
     "output_type": "execute_result"
    }
   ],
   "source": [
    "lb_make = LabelEncoder()\n",
    "features_df[\"Date Reported\"] = lb_make.fit_transform(features_df[\"Date Reported\"])\n",
    "features_df[\"Date Occurred\"] = lb_make.fit_transform(features_df[\"Date Occurred\"])\n",
    "obj_df = features_df.select_dtypes(include=['object']).copy()\n",
    "\n",
    "for col in obj_df.columns:\n",
    "    features_df[col] = lb_make.fit_transform(features_df[col])\n",
    "\n",
    "target = lb_make.fit_transform(target)\n",
    "features_df.head()"
   ]
  },
  {
   "cell_type": "code",
   "execution_count": null,
   "metadata": {},
   "outputs": [],
   "source": [
    "features_df.dtypes"
   ]
  },
  {
   "cell_type": "code",
   "execution_count": null,
   "metadata": {},
   "outputs": [],
   "source": [
    "X_train, X_test, y_train, y_test = train_test_split(features_df.values, target, \n",
    "                                                    test_size=0.2, random_state=42)\n",
    "\n",
    "clf = BlackBoxClassifier(gamma=\"scale\")\n",
    "clf.fit(X_train, y_train)\n",
    "y_pred = clf.predict(X_test)\n",
    "\n",
    "print(\"Classification accuracy: {:.2f}%\".format(accuracy_score(y_pred, y_test)*100))"
   ]
  },
  {
   "cell_type": "markdown",
   "metadata": {},
   "source": [
    "### Regression"
   ]
  },
  {
   "cell_type": "code",
   "execution_count": null,
   "metadata": {},
   "outputs": [],
   "source": [
    "collisions = la_df.groupby(['Date Occurred'])[\"Date Reported\"].count().reset_index()\n",
    "collisions = collisions.set_index('Date Occurred')\n",
    "collisions"
   ]
  },
  {
   "cell_type": "code",
   "execution_count": null,
   "metadata": {},
   "outputs": [],
   "source": [
    "y = collisions['Date Reported'].resample('MS').mean()"
   ]
  },
  {
   "cell_type": "code",
   "execution_count": null,
   "metadata": {},
   "outputs": [],
   "source": [
    "y.plot(figsize=(15, 6))"
   ]
  },
  {
   "cell_type": "code",
   "execution_count": null,
   "metadata": {},
   "outputs": [],
   "source": [
    "rcParams['figure.figsize'] = 18, 8\n",
    "decomposition = sm.tsa.seasonal_decompose(y, model='additive')\n",
    "fig = decomposition.plot()\n",
    "plt.show()"
   ]
  },
  {
   "cell_type": "code",
   "execution_count": null,
   "metadata": {},
   "outputs": [],
   "source": [
    "fcst = BlackBoxForecasting(y,\n",
    "                           order=(0, 1, 1),\n",
    "                           seasonal_order=(0, 1, 1, 12),\n",
    "                           enforce_stationarity=False,\n",
    "                           enforce_invertibility=False)\n",
    "results = fcst.fit()"
   ]
  },
  {
   "cell_type": "code",
   "execution_count": null,
   "metadata": {},
   "outputs": [],
   "source": [
    "pred = results.get_prediction(start=pd.to_datetime('2019-01-01'), dynamic=False)\n",
    "pred_ci = pred.conf_int()\n",
    "ax = y['2017':].plot(label='observed')\n",
    "pred.predicted_mean.plot(ax=ax, label='One-step ahead Forecast', alpha=.7, figsize=(14, 7))\n",
    "ax.fill_between(pred_ci.index,\n",
    "                pred_ci.iloc[:, 0],\n",
    "                pred_ci.iloc[:, 1], color='k', alpha=.2)\n",
    "ax.set_xlabel('Date')\n",
    "ax.set_ylabel('# Collisions')\n",
    "plt.legend()\n",
    "plt.show()"
   ]
  },
  {
   "cell_type": "markdown",
   "metadata": {},
   "source": [
    "### Clustering"
   ]
  },
  {
   "cell_type": "code",
   "execution_count": null,
   "metadata": {},
   "outputs": [],
   "source": [
    "trans = umap.UMAP(n_neighbors=5, random_state=42).fit(X_train)\n",
    "\n",
    "plt.figure(figsize=(20,10))\n",
    "plt.scatter(trans.embedding_[:, 0], trans.embedding_[:, 1], s=50)"
   ]
  },
  {
   "cell_type": "code",
   "execution_count": null,
   "metadata": {},
   "outputs": [],
   "source": [
    "plt.figure(figsize=(20,10))\n",
    "plt.scatter(trans.embedding_[:, 0], trans.embedding_[:, 1], s=50, c=y_train, cmap='Spectral')"
   ]
  },
  {
   "cell_type": "code",
   "execution_count": null,
   "metadata": {},
   "outputs": [],
   "source": [
    "clst = BlackBoxClustering2()\n",
    "clst.fit(X_train)\n",
    "y_pred = clst.labels_\n",
    "\n",
    "print(np.unique(y_pred))\n",
    "\n",
    "plt.figure(figsize=(20,10))\n",
    "plt.scatter(trans.embedding_[:, 0], trans.embedding_[:, 1], \n",
    "            s=50, c=y_pred, cmap='Spectral')\n",
    "plt.colorbar()"
   ]
  },
  {
   "cell_type": "markdown",
   "metadata": {},
   "source": [
    "### References"
   ]
  },
  {
   "cell_type": "markdown",
   "metadata": {},
   "source": [
    "[Goodfellow, I., Bengio, Y., & Courville, A. (2016). Deep Learning. MIT Press. Retrieved from https://www.deeplearningbook.org](https://www.deeplearningbook.org)"
   ]
  }
 ],
 "metadata": {
  "kernelspec": {
   "display_name": "Python 3",
   "language": "python",
   "name": "python3"
  },
  "language_info": {
   "codemirror_mode": {
    "name": "ipython",
    "version": 3
   },
   "file_extension": ".py",
   "mimetype": "text/x-python",
   "name": "python",
   "nbconvert_exporter": "python",
   "pygments_lexer": "ipython3",
   "version": "3.7.3"
  }
 },
 "nbformat": 4,
 "nbformat_minor": 2
}
